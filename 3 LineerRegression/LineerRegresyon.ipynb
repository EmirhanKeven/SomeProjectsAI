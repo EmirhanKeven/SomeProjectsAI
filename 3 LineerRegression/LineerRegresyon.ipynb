{
 "cells": [
  {
   "cell_type": "markdown",
   "id": "f4ff4285",
   "metadata": {},
   "source": [
    "## Modul ve df aktarimi"
   ]
  },
  {
   "cell_type": "code",
   "execution_count": 3,
   "id": "d622f752",
   "metadata": {},
   "outputs": [
    {
     "data": {
      "text/html": [
       "<div>\n",
       "<style scoped>\n",
       "    .dataframe tbody tr th:only-of-type {\n",
       "        vertical-align: middle;\n",
       "    }\n",
       "\n",
       "    .dataframe tbody tr th {\n",
       "        vertical-align: top;\n",
       "    }\n",
       "\n",
       "    .dataframe thead th {\n",
       "        text-align: right;\n",
       "    }\n",
       "</style>\n",
       "<table border=\"1\" class=\"dataframe\">\n",
       "  <thead>\n",
       "    <tr style=\"text-align: right;\">\n",
       "      <th></th>\n",
       "      <th>alan</th>\n",
       "      <th>fiyat</th>\n",
       "    </tr>\n",
       "  </thead>\n",
       "  <tbody>\n",
       "    <tr>\n",
       "      <th>0</th>\n",
       "      <td>180</td>\n",
       "      <td>495000</td>\n",
       "    </tr>\n",
       "    <tr>\n",
       "      <th>1</th>\n",
       "      <td>225</td>\n",
       "      <td>525000</td>\n",
       "    </tr>\n",
       "    <tr>\n",
       "      <th>2</th>\n",
       "      <td>260</td>\n",
       "      <td>550000</td>\n",
       "    </tr>\n",
       "    <tr>\n",
       "      <th>3</th>\n",
       "      <td>320</td>\n",
       "      <td>610000</td>\n",
       "    </tr>\n",
       "    <tr>\n",
       "      <th>4</th>\n",
       "      <td>335</td>\n",
       "      <td>625000</td>\n",
       "    </tr>\n",
       "    <tr>\n",
       "      <th>5</th>\n",
       "      <td>345</td>\n",
       "      <td>632000</td>\n",
       "    </tr>\n",
       "    <tr>\n",
       "      <th>6</th>\n",
       "      <td>355</td>\n",
       "      <td>680000</td>\n",
       "    </tr>\n",
       "    <tr>\n",
       "      <th>7</th>\n",
       "      <td>400</td>\n",
       "      <td>725000</td>\n",
       "    </tr>\n",
       "  </tbody>\n",
       "</table>\n",
       "</div>"
      ],
      "text/plain": [
       "   alan   fiyat\n",
       "0   180  495000\n",
       "1   225  525000\n",
       "2   260  550000\n",
       "3   320  610000\n",
       "4   335  625000\n",
       "5   345  632000\n",
       "6   355  680000\n",
       "7   400  725000"
      ]
     },
     "execution_count": 3,
     "metadata": {},
     "output_type": "execute_result"
    }
   ],
   "source": [
    "import pandas as pd\n",
    "import matplotlib.pyplot as plt\n",
    "from sklearn import linear_model\n",
    "\n",
    "df = pd.read_csv(\"linearregression.csv\", sep=\";\")\n",
    "df"
   ]
  },
  {
   "cell_type": "markdown",
   "id": "cc494bcc",
   "metadata": {},
   "source": [
    "## Eldeki data ile grafik cizelim"
   ]
  },
  {
   "cell_type": "code",
   "execution_count": 6,
   "id": "c238bafd",
   "metadata": {},
   "outputs": [
    {
     "data": {
      "image/png": "[encoded data removed]",
      "text/plain": [
       "<Figure size 640x480 with 1 Axes>"
      ]
     },
     "metadata": {},
     "output_type": "display_data"
    }
   ],
   "source": [
    "plt.xlabel('Alan')\n",
    "plt.ylabel('Fiyat(TL)')\n",
    "plt.scatter(df.alan,df.fiyat ,color=\"red\",marker=\"+\")\n",
    "plt.show()"
   ]
  },
  {
   "cell_type": "code",
   "execution_count": 8,
   "id": "37165483",
   "metadata": {},
   "outputs": [
    {
     "name": "stderr",
     "output_type": "stream",
     "text": [
      "C:\\Users\\emirh\\anaconda3\\Lib\\site-packages\\sklearn\\base.py:464: UserWarning: X does not have valid feature names, but LinearRegression was fitted with feature names\n",
      "  warnings.warn(\n"
     ]
    }
   ],
   "source": [
    "# ilk once regresyonu kullanmak icin modeli olusturuyoruz\n",
    "reg = linear_model.LinearRegression()\n",
    "# sonra icine deger ekliyoruz/ cift koseli olmasinin nedeni bizim fit in icine x ve y yani bagimsiz ve bagimli degisken \n",
    "# olacak sekilde iki data frame yazmamiz gerekiyor\n",
    "reg.fit(df[['alan']],df[['fiyat']])\n",
    "# verdigimiz df ye gore deger verip sonuc tahmin etmesini istiyoruz\n",
    "result_275 = reg.predict([[275]])"
   ]
  },
  {
   "cell_type": "code",
   "execution_count": 10,
   "id": "1fdc8a30",
   "metadata": {},
   "outputs": [
    {
     "data": {
      "text/plain": [
       "array([[1033.59477124]])"
      ]
     },
     "execution_count": 10,
     "metadata": {},
     "output_type": "execute_result"
    }
   ],
   "source": [
    "# buldugu sonucu ax+b seklinde bir formul olarak buldu\n",
    "\n",
    "#formuldeki a degeri \n",
    "reg.coef_"
   ]
  },
  {
   "cell_type": "code",
   "execution_count": 11,
   "id": "034c41f7",
   "metadata": {},
   "outputs": [
    {
     "data": {
      "text/plain": [
       "array([292587.58169935])"
      ]
     },
     "execution_count": 11,
     "metadata": {},
     "output_type": "execute_result"
    }
   ],
   "source": [
    "#formuldeki b degeri\n",
    "reg.intercept_"
   ]
  },
  {
   "cell_type": "code",
   "execution_count": 14,
   "id": "41d26b6e",
   "metadata": {},
   "outputs": [
    {
     "name": "stdout",
     "output_type": "stream",
     "text": [
      "formule gore cikmasi gereken deger [[576826.14379085]] \n",
      "cikan deger [[576826.14379085]]\n"
     ]
    }
   ],
   "source": [
    "# 275 icin aldigimiz sonuc ile degerleri formulde yerine koyup bir karsilatiralim\n",
    "\n",
    "a = reg.coef_\n",
    "b = reg.intercept_\n",
    "x = 275\n",
    "y = a * x + b\n",
    "print(f\"formule gore cikmasi gereken deger {y} \\ncikan deger {result_275}\")"
   ]
  },
  {
   "cell_type": "code",
   "execution_count": 16,
   "id": "bfa9d578",
   "metadata": {},
   "outputs": [
    {
     "data": {
      "image/png": "[encoded data removed]",
      "text/plain": [
       "<Figure size 640x480 with 1 Axes>"
      ]
     },
     "metadata": {},
     "output_type": "display_data"
    }
   ],
   "source": [
    "plt.xlabel('Alan',color='red')\n",
    "plt.ylabel('Fiyat(TL)',color='red')\n",
    "plt.title(\"Lineer Regresyon\")\n",
    "plt.scatter(df.alan, df.fiyat , color=\"red\",marker=\"+\")\n",
    "plt.plot(df.alan , reg.predict(df[['alan']]), color= 'blue')\n",
    "plt.show()"
   ]
  },
  {
   "cell_type": "code",
   "execution_count": null,
   "id": "82a8e615",
   "metadata": {},
   "outputs": [],
   "source": []
  }
 ],
 "metadata": {
  "kernelspec": {
   "display_name": "Python 3 (ipykernel)",
   "language": "python",
   "name": "python3"
  },
  "language_info": {
   "codemirror_mode": {
    "name": "ipython",
    "version": 3
   },
   "file_extension": ".py",
   "mimetype": "text/x-python",
   "name": "python",
   "nbconvert_exporter": "python",
   "pygments_lexer": "ipython3",
   "version": "3.11.5"
  }
 },
 "nbformat": 4,
 "nbformat_minor": 5
}
